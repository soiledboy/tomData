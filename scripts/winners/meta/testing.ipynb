{
 "cells": [
  {
   "cell_type": "code",
   "execution_count": 21,
   "metadata": {
    "collapsed": false
   },
   "outputs": [
    {
     "name": "stdout",
     "output_type": "stream",
     "text": [
      "Connection Established\n",
      "working on winners querys\n"
     ]
    }
   ],
   "source": [
    "damaged_query = \"\"\"\n",
    "SELECT\n",
    "    products.name,\n",
    "    products.number,\n",
    "    prices.low,\n",
    "    prices.market,\n",
    "    products.id,\n",
    "    prices.date\n",
    "FROM products\n",
    "LEFT OUTER JOIN prices on products.id = prices.product_id\n",
    "AND \n",
    " prices.date\n",
    "\tbetween (CURRENT_DATE- interval %(range)s day)\n",
    "\tAND     (CURRENT_DATE+1)\n",
    "\"\"\"\n",
    "\n",
    "test_query = \"\"\"\n",
    "SELECT * FROM prices WHERE product_id = 58508\n",
    "\"\"\"\n",
    "\n",
    "# imports\n",
    "import psycopg2\n",
    "import pandas.io.sql as psql\n",
    "import pandas as pd\n",
    "import numpy as np\n",
    "from google.cloud import storage\n",
    "import os\n",
    "import requests\n",
    "# connect to Database\n",
    "\n",
    "\n",
    "conn = psycopg2.connect(dbname='d4glguq0as3fe6', user='ucjrvhda1pfbv1', password='pa045091d3e285537e8a31eb863c11df1dfa42659a9a447ce231b18f0070892a1', host='ec2-34-195-123-119.compute-1.amazonaws.com', port='5432', sslmode='require')\n",
    "cur = conn.cursor()\n",
    "print('Connection Established')\n",
    "\n",
    "\n",
    "# begin Winners Query's\n",
    "print(\"working on winners querys\")\n",
    "\n",
    "df30 = psql.read_sql(damaged_query, conn, params={'range': '7'})\n",
    "df30['period'] = '30'\n"
   ]
  },
  {
   "cell_type": "code",
   "execution_count": 22,
   "metadata": {
    "collapsed": true
   },
   "outputs": [],
   "source": [
    "df30.to_csv(r'/home/tier1marketspace/youtuberReport/scripts/data/test.csv',date_format='%Y-%m-%d', encoding='utf-8', index=False)"
   ]
  },
  {
   "cell_type": "code",
   "execution_count": null,
   "metadata": {
    "collapsed": true
   },
   "outputs": [],
   "source": []
  },
  {
   "cell_type": "code",
   "execution_count": null,
   "metadata": {
    "collapsed": true
   },
   "outputs": [],
   "source": []
  }
 ],
 "metadata": {
  "kernelspec": {
   "display_name": "Python 3.7",
   "language": "python",
   "name": "python3.7"
  },
  "language_info": {
   "codemirror_mode": {
    "name": "ipython",
    "version": 3
   },
   "file_extension": ".py",
   "mimetype": "text/x-python",
   "name": "python",
   "nbconvert_exporter": "python",
   "pygments_lexer": "ipython3",
   "version": "3.7.0"
  }
 },
 "nbformat": 4,
 "nbformat_minor": 0
}
