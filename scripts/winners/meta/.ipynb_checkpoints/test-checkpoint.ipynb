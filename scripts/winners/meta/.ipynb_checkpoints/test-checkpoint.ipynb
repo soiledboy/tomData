{
 "cells": [
  {
   "cell_type": "code",
   "execution_count": 1,
   "metadata": {},
   "outputs": [
    {
     "name": "stdout",
     "output_type": "stream",
     "text": [
      "Connection Established\n",
      "working on 7\n",
      "working on 8\n",
      "Connection Closed\n"
     ]
    }
   ],
   "source": [
    "import psycopg2\n",
    "import pandas.io.sql as psql\n",
    "import pandas as pd\n",
    "from queries.queryLine_win import query\n",
    "\n",
    "#Connect to Database\n",
    "conn = psycopg2.connect(dbname='d4glguq0as3fe6', user='ucjrvhda1pfbv1', password='pa045091d3e285537e8a31eb863c11df1dfa42659a9a447ce231b18f0070892a1', host='ec2-34-195-123-119.compute-1.amazonaws.com', port='5432', sslmode='require')\n",
    "cur = conn.cursor()\n",
    "print('Connection Established')\n",
    "\n",
    "#Begin Query's\n",
    "print('working on 7' )\n",
    "df07 = psql.read_sql(query, conn, params={'range': '7'})\n",
    "df07['period'] = '7'\n",
    "\n",
    "\n",
    "#Combine into one dataframe\n",
    "win = pd.concat([df07], ignore_index=True, sort=True)\n",
    "\n",
    "df0 = win.loc[((win['first_price'] < 1) & (win['difference'] >= .75)),:]\n",
    "df1 = win.loc[((win['first_price'] > 1) & (win['first_price'] <= 7) & (win['difference'] >= 1.5)),:]\n",
    "df2 = win.loc[((win['first_price'] > 7) & (win['first_price'] <= 15) & (win['difference'] >= 2)),:]\n",
    "df3 = win.loc[((win['first_price'] > 15) & (win['first_price'] <= 20) & (win['difference'] >= 3)),:]\n",
    "df4 = win.loc[((win['first_price'] > 20) & (win['first_price'] <= 30) & (win['difference'] >= 4)),:]\n",
    "df5 = win.loc[((win['first_price'] > 30) & (win['first_price'] <= 60) & (win['difference'] >= 5)),:]\n",
    "df6 = win.loc[((win['first_price'] > 60) & (win['first_price'] <= 100) & (win['difference'] >= 10)),:]\n",
    "df7 = win.loc[((win['first_price'] > 100) & (win['difference'] >= 20)),:]\n",
    "\n",
    "df_winners_total = pd.concat([df0, df1, df2, df3, df4, df5, df6, df7], ignore_index=True)\n",
    "\n",
    "# identify partial string\n",
    "discard = [\"Duelist League\"]\n",
    "\n",
    "# drop rows that contain the partial string \"Duelist League\"\n",
    "df_winners_total = df_winners_total[~df_winners_total.set_name.str.contains('Duelist League'.join(discard))]\n",
    "\n",
    "\n",
    "#Begin Difference Query's\n",
    "print('working on 8' )\n",
    "df08 = psql.read_sql(query, conn, params={'range': '8'})\n",
    "df08['period'] = '7'\n",
    "\n",
    "\n",
    "\n",
    "#Close connection to database\n",
    "cur.close()\n",
    "conn.close()\n",
    "print('Connection Closed')\n",
    "\n",
    "#Combine into one dataframe\n",
    "df_winners_total_diff = pd.concat([df08], ignore_index=True, sort=True)\n",
    "\n",
    "df8 = df_winners_total_diff.loc[((df_winners_total_diff['first_price'] < 1) & (df_winners_total_diff['difference'] >= .75)),:]\n",
    "df9 = df_winners_total_diff.loc[((df_winners_total_diff['first_price'] > 1) & (df_winners_total_diff['first_price'] <= 7) & (df_winners_total_diff['difference'] >= 1.5)),:]\n",
    "df10 = df_winners_total_diff.loc[((df_winners_total_diff['first_price'] > 7) & (df_winners_total_diff['first_price'] <= 15) & (df_winners_total_diff['difference'] >= 2)),:]\n",
    "df11 = df_winners_total_diff.loc[((df_winners_total_diff['first_price'] > 15) & (df_winners_total_diff['first_price'] <= 20) & (df_winners_total_diff['difference'] >= 3)),:]\n",
    "df12 = df_winners_total_diff.loc[((df_winners_total_diff['first_price'] > 20) & (df_winners_total_diff['first_price'] <= 30) & (df_winners_total_diff['difference'] >= 4)),:]\n",
    "df13 = df_winners_total_diff.loc[((df_winners_total_diff['first_price'] > 30) & (df_winners_total_diff['first_price'] <= 60) & (df_winners_total_diff['difference'] >= 5)),:]\n",
    "df14 = df_winners_total_diff.loc[((df_winners_total_diff['first_price'] > 60) & (df_winners_total_diff['first_price'] <= 100) & (df_winners_total_diff['difference'] >= 10)),:]\n",
    "df15 = df_winners_total_diff.loc[((df_winners_total_diff['first_price'] > 100) & (df_winners_total_diff['difference'] >= 20)),:]\n",
    "\n",
    "df_winners_total_diff = pd.concat([df8, df9, df10, df11, df12, df13, df14, df15], ignore_index=True)\n",
    "\n",
    "# drop rows that contain the partial string \"Duelist League\"\n",
    "df_winners_total_diff = df_winners_total_diff[~df_winners_total_diff.set_name.str.contains('Duelist League'.join(discard))]"
   ]
  },
  {
   "cell_type": "code",
   "execution_count": 2,
   "metadata": {},
   "outputs": [
    {
     "data": {
      "text/html": [
       "<div>\n",
       "<style scoped>\n",
       "    .dataframe tbody tr th:only-of-type {\n",
       "        vertical-align: middle;\n",
       "    }\n",
       "\n",
       "    .dataframe tbody tr th {\n",
       "        vertical-align: top;\n",
       "    }\n",
       "\n",
       "    .dataframe thead th {\n",
       "        text-align: right;\n",
       "    }\n",
       "</style>\n",
       "<table border=\"1\" class=\"dataframe\">\n",
       "  <thead>\n",
       "    <tr style=\"text-align: right;\">\n",
       "      <th></th>\n",
       "      <th>date</th>\n",
       "      <th>difference</th>\n",
       "      <th>first_date</th>\n",
       "      <th>first_price</th>\n",
       "      <th>high</th>\n",
       "      <th>last_date</th>\n",
       "      <th>last_price</th>\n",
       "      <th>low</th>\n",
       "      <th>market</th>\n",
       "      <th>mid</th>\n",
       "      <th>name</th>\n",
       "      <th>number</th>\n",
       "      <th>p_change</th>\n",
       "      <th>period</th>\n",
       "      <th>product_id</th>\n",
       "      <th>set_name</th>\n",
       "      <th>sub_type</th>\n",
       "      <th>tcg_product_id</th>\n",
       "      <th>updated_at</th>\n",
       "    </tr>\n",
       "  </thead>\n",
       "  <tbody>\n",
       "  </tbody>\n",
       "</table>\n",
       "</div>"
      ],
      "text/plain": [
       "Empty DataFrame\n",
       "Columns: [date, difference, first_date, first_price, high, last_date, last_price, low, market, mid, name, number, p_change, period, product_id, set_name, sub_type, tcg_product_id, updated_at]\n",
       "Index: []"
      ]
     },
     "execution_count": 2,
     "metadata": {},
     "output_type": "execute_result"
    }
   ],
   "source": [
    "df_winners_total_diff"
   ]
  },
  {
   "cell_type": "code",
   "execution_count": 3,
   "metadata": {},
   "outputs": [
    {
     "ename": "InterfaceError",
     "evalue": "connection already closed",
     "output_type": "error",
     "traceback": [
      "\u001b[0;31m---------------------------------------------------------------------------\u001b[0m",
      "\u001b[0;31mInterfaceError\u001b[0m                            Traceback (most recent call last)",
      "Input \u001b[0;32mIn [3]\u001b[0m, in \u001b[0;36m<cell line: 1>\u001b[0;34m()\u001b[0m\n\u001b[0;32m----> 1\u001b[0m df07 \u001b[38;5;241m=\u001b[39m \u001b[43mpsql\u001b[49m\u001b[38;5;241;43m.\u001b[39;49m\u001b[43mread_sql\u001b[49m\u001b[43m(\u001b[49m\u001b[43mquery\u001b[49m\u001b[43m,\u001b[49m\u001b[43m \u001b[49m\u001b[43mconn\u001b[49m\u001b[43m,\u001b[49m\u001b[43m \u001b[49m\u001b[43mparams\u001b[49m\u001b[38;5;241;43m=\u001b[39;49m\u001b[43m{\u001b[49m\u001b[38;5;124;43m'\u001b[39;49m\u001b[38;5;124;43mrange\u001b[39;49m\u001b[38;5;124;43m'\u001b[39;49m\u001b[43m:\u001b[49m\u001b[43m \u001b[49m\u001b[38;5;124;43m'\u001b[39;49m\u001b[38;5;124;43m7\u001b[39;49m\u001b[38;5;124;43m'\u001b[39;49m\u001b[43m}\u001b[49m\u001b[43m)\u001b[49m\n",
      "File \u001b[0;32m/usr/local/lib/python3.10/site-packages/pandas/io/sql.py:602\u001b[0m, in \u001b[0;36mread_sql\u001b[0;34m(sql, con, index_col, coerce_float, params, parse_dates, columns, chunksize)\u001b[0m\n\u001b[1;32m    599\u001b[0m pandas_sql \u001b[38;5;241m=\u001b[39m pandasSQL_builder(con)\n\u001b[1;32m    601\u001b[0m \u001b[38;5;28;01mif\u001b[39;00m \u001b[38;5;28misinstance\u001b[39m(pandas_sql, SQLiteDatabase):\n\u001b[0;32m--> 602\u001b[0m     \u001b[38;5;28;01mreturn\u001b[39;00m \u001b[43mpandas_sql\u001b[49m\u001b[38;5;241;43m.\u001b[39;49m\u001b[43mread_query\u001b[49m\u001b[43m(\u001b[49m\n\u001b[1;32m    603\u001b[0m \u001b[43m        \u001b[49m\u001b[43msql\u001b[49m\u001b[43m,\u001b[49m\n\u001b[1;32m    604\u001b[0m \u001b[43m        \u001b[49m\u001b[43mindex_col\u001b[49m\u001b[38;5;241;43m=\u001b[39;49m\u001b[43mindex_col\u001b[49m\u001b[43m,\u001b[49m\n\u001b[1;32m    605\u001b[0m \u001b[43m        \u001b[49m\u001b[43mparams\u001b[49m\u001b[38;5;241;43m=\u001b[39;49m\u001b[43mparams\u001b[49m\u001b[43m,\u001b[49m\n\u001b[1;32m    606\u001b[0m \u001b[43m        \u001b[49m\u001b[43mcoerce_float\u001b[49m\u001b[38;5;241;43m=\u001b[39;49m\u001b[43mcoerce_float\u001b[49m\u001b[43m,\u001b[49m\n\u001b[1;32m    607\u001b[0m \u001b[43m        \u001b[49m\u001b[43mparse_dates\u001b[49m\u001b[38;5;241;43m=\u001b[39;49m\u001b[43mparse_dates\u001b[49m\u001b[43m,\u001b[49m\n\u001b[1;32m    608\u001b[0m \u001b[43m        \u001b[49m\u001b[43mchunksize\u001b[49m\u001b[38;5;241;43m=\u001b[39;49m\u001b[43mchunksize\u001b[49m\u001b[43m,\u001b[49m\n\u001b[1;32m    609\u001b[0m \u001b[43m    \u001b[49m\u001b[43m)\u001b[49m\n\u001b[1;32m    611\u001b[0m \u001b[38;5;28;01mtry\u001b[39;00m:\n\u001b[1;32m    612\u001b[0m     _is_table_name \u001b[38;5;241m=\u001b[39m pandas_sql\u001b[38;5;241m.\u001b[39mhas_table(sql)\n",
      "File \u001b[0;32m/usr/local/lib/python3.10/site-packages/pandas/io/sql.py:2116\u001b[0m, in \u001b[0;36mSQLiteDatabase.read_query\u001b[0;34m(self, sql, index_col, coerce_float, params, parse_dates, chunksize, dtype)\u001b[0m\n\u001b[1;32m   2104\u001b[0m \u001b[38;5;28;01mdef\u001b[39;00m \u001b[38;5;21mread_query\u001b[39m(\n\u001b[1;32m   2105\u001b[0m     \u001b[38;5;28mself\u001b[39m,\n\u001b[1;32m   2106\u001b[0m     sql,\n\u001b[0;32m   (...)\u001b[0m\n\u001b[1;32m   2112\u001b[0m     dtype: DtypeArg \u001b[38;5;241m|\u001b[39m \u001b[38;5;28;01mNone\u001b[39;00m \u001b[38;5;241m=\u001b[39m \u001b[38;5;28;01mNone\u001b[39;00m,\n\u001b[1;32m   2113\u001b[0m ):\n\u001b[1;32m   2115\u001b[0m     args \u001b[38;5;241m=\u001b[39m _convert_params(sql, params)\n\u001b[0;32m-> 2116\u001b[0m     cursor \u001b[38;5;241m=\u001b[39m \u001b[38;5;28;43mself\u001b[39;49m\u001b[38;5;241;43m.\u001b[39;49m\u001b[43mexecute\u001b[49m\u001b[43m(\u001b[49m\u001b[38;5;241;43m*\u001b[39;49m\u001b[43margs\u001b[49m\u001b[43m)\u001b[49m\n\u001b[1;32m   2117\u001b[0m     columns \u001b[38;5;241m=\u001b[39m [col_desc[\u001b[38;5;241m0\u001b[39m] \u001b[38;5;28;01mfor\u001b[39;00m col_desc \u001b[38;5;129;01min\u001b[39;00m cursor\u001b[38;5;241m.\u001b[39mdescription]\n\u001b[1;32m   2119\u001b[0m     \u001b[38;5;28;01mif\u001b[39;00m chunksize \u001b[38;5;129;01mis\u001b[39;00m \u001b[38;5;129;01mnot\u001b[39;00m \u001b[38;5;28;01mNone\u001b[39;00m:\n",
      "File \u001b[0;32m/usr/local/lib/python3.10/site-packages/pandas/io/sql.py:2054\u001b[0m, in \u001b[0;36mSQLiteDatabase.execute\u001b[0;34m(self, *args, **kwargs)\u001b[0m\n\u001b[1;32m   2052\u001b[0m     cur \u001b[38;5;241m=\u001b[39m \u001b[38;5;28mself\u001b[39m\u001b[38;5;241m.\u001b[39mcon\n\u001b[1;32m   2053\u001b[0m \u001b[38;5;28;01melse\u001b[39;00m:\n\u001b[0;32m-> 2054\u001b[0m     cur \u001b[38;5;241m=\u001b[39m \u001b[38;5;28;43mself\u001b[39;49m\u001b[38;5;241;43m.\u001b[39;49m\u001b[43mcon\u001b[49m\u001b[38;5;241;43m.\u001b[39;49m\u001b[43mcursor\u001b[49m\u001b[43m(\u001b[49m\u001b[43m)\u001b[49m\n\u001b[1;32m   2055\u001b[0m \u001b[38;5;28;01mtry\u001b[39;00m:\n\u001b[1;32m   2056\u001b[0m     cur\u001b[38;5;241m.\u001b[39mexecute(\u001b[38;5;241m*\u001b[39margs, \u001b[38;5;241m*\u001b[39m\u001b[38;5;241m*\u001b[39mkwargs)\n",
      "\u001b[0;31mInterfaceError\u001b[0m: connection already closed"
     ]
    }
   ],
   "source": [
    "df07 = psql.read_sql(query, conn, params={'range': '7'})"
   ]
  },
  {
   "cell_type": "code",
   "execution_count": 4,
   "metadata": {},
   "outputs": [
    {
     "name": "stdout",
     "output_type": "stream",
     "text": [
      "Connection Established\n",
      "working on 7\n"
     ]
    }
   ],
   "source": [
    "import psycopg2\n",
    "import pandas.io.sql as psql\n",
    "import pandas as pd\n",
    "from queries.queryLine_win import query\n",
    "\n",
    "#Connect to Database\n",
    "conn = psycopg2.connect(dbname='d4glguq0as3fe6', user='ucjrvhda1pfbv1', password='pa045091d3e285537e8a31eb863c11df1dfa42659a9a447ce231b18f0070892a1', host='ec2-34-195-123-119.compute-1.amazonaws.com', port='5432', sslmode='require')\n",
    "cur = conn.cursor()\n",
    "print('Connection Established')\n",
    "\n",
    "#Begin Query's\n",
    "print('working on 7' )\n",
    "df07 = psql.read_sql(query, conn, params={'range': '7'})\n",
    "df07['period'] = '7'"
   ]
  },
  {
   "cell_type": "code",
   "execution_count": 5,
   "metadata": {},
   "outputs": [
    {
     "data": {
      "text/html": [
       "<div>\n",
       "<style scoped>\n",
       "    .dataframe tbody tr th:only-of-type {\n",
       "        vertical-align: middle;\n",
       "    }\n",
       "\n",
       "    .dataframe tbody tr th {\n",
       "        vertical-align: top;\n",
       "    }\n",
       "\n",
       "    .dataframe thead th {\n",
       "        text-align: right;\n",
       "    }\n",
       "</style>\n",
       "<table border=\"1\" class=\"dataframe\">\n",
       "  <thead>\n",
       "    <tr style=\"text-align: right;\">\n",
       "      <th></th>\n",
       "      <th>name</th>\n",
       "      <th>number</th>\n",
       "      <th>set_name</th>\n",
       "      <th>market</th>\n",
       "      <th>date</th>\n",
       "      <th>sub_type</th>\n",
       "      <th>product_id</th>\n",
       "      <th>low</th>\n",
       "      <th>mid</th>\n",
       "      <th>high</th>\n",
       "      <th>tcg_product_id</th>\n",
       "      <th>updated_at</th>\n",
       "      <th>difference</th>\n",
       "      <th>first_date</th>\n",
       "      <th>last_date</th>\n",
       "      <th>first_price</th>\n",
       "      <th>last_price</th>\n",
       "      <th>p_change</th>\n",
       "      <th>period</th>\n",
       "    </tr>\n",
       "  </thead>\n",
       "  <tbody>\n",
       "  </tbody>\n",
       "</table>\n",
       "</div>"
      ],
      "text/plain": [
       "Empty DataFrame\n",
       "Columns: [name, number, set_name, market, date, sub_type, product_id, low, mid, high, tcg_product_id, updated_at, difference, first_date, last_date, first_price, last_price, p_change, period]\n",
       "Index: []"
      ]
     },
     "execution_count": 5,
     "metadata": {},
     "output_type": "execute_result"
    }
   ],
   "source": [
    "df07"
   ]
  },
  {
   "cell_type": "code",
   "execution_count": null,
   "metadata": {},
   "outputs": [],
   "source": []
  }
 ],
 "metadata": {
  "kernelspec": {
   "display_name": "Python 3.10",
   "language": "python",
   "name": "python3.10"
  },
  "language_info": {
   "codemirror_mode": {
    "name": "ipython",
    "version": 3
   },
   "file_extension": ".py",
   "mimetype": "text/x-python",
   "name": "python",
   "nbconvert_exporter": "python",
   "pygments_lexer": "ipython3",
   "version": "3.10.5"
  }
 },
 "nbformat": 4,
 "nbformat_minor": 1
}
